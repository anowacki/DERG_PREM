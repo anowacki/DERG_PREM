{
 "cells": [
  {
   "cell_type": "markdown",
   "metadata": {},
   "source": [
    "# Deep Earth PREM: The effect of ICB radius on the Earth's inertia coefficient (I/MR<sup>2</sup>)"
   ]
  },
  {
   "cell_type": "markdown",
   "metadata": {},
   "source": [
    "In computing PREM, one of the constraints that Dziewonski and Anderson satisfied was the inertia coefficient of the Earth, given as $I/MR^2=0.3308$ (without errors).  Here we can test the effect on the inertia coefficient of changing the ICB radius."
   ]
  },
  {
   "cell_type": "markdown",
   "metadata": {},
   "source": [
    "To do the calculations, we need to import a few things."
   ]
  },
  {
   "cell_type": "code",
   "execution_count": 1,
   "metadata": {},
   "outputs": [],
   "source": [
    "using SeisModels\n",
    "using Plots: plot, plot!, hline!, vline!"
   ]
  },
  {
   "cell_type": "markdown",
   "metadata": {},
   "source": [
    "These two above give us access to the seismic models module, `SeisModels` (see the [documentation](https://anowacki.github.io/SeisModels.jl/stable/) for more information) and [Plots](http://docs.juliaplots.org/latest/) to make figures."
   ]
  },
  {
   "cell_type": "code",
   "execution_count": 2,
   "metadata": {},
   "outputs": [],
   "source": [
    "using Measurements\n",
    "using Measurements: value, uncertainty\n",
    "using Unitful: kg, km, m"
   ]
  },
  {
   "cell_type": "markdown",
   "metadata": {},
   "source": [
    "These packages allow us to deal with errors and units easily."
   ]
  },
  {
   "cell_type": "markdown",
   "metadata": {},
   "source": [
    "## Earth reference values and uncertainties\n",
    "\n",
    "The current reference values for the Earth have changed a small amount from those used in making PREM.  The following are taken from Chambat & Valette (PEPI, 2001):"
   ]
  },
  {
   "cell_type": "code",
   "execution_count": 3,
   "metadata": {},
   "outputs": [
    {
     "data": {
      "text/latex": [
       "$0.330714 \\pm 8.0e-6$"
      ],
      "text/plain": [
       "0.330714 ± 8.0e-6"
      ]
     },
     "execution_count": 3,
     "metadata": {},
     "output_type": "execute_result"
    }
   ],
   "source": [
    "M = (5.9733 ± 0.0090).*1e24*kg # Earth's mass\n",
    "R = (6_370_994.4 ± 3.0)*m # Earth's reference radius\n",
    "I = (8.018 ± 0.012).*1e13*m^2*kg # Moment of interia\n",
    "I_MR² = 0.330714 ± 0.000008 # Inertia coefficient"
   ]
  },
  {
   "cell_type": "markdown",
   "metadata": {},
   "source": [
    "### Comparing inertia coefficient as the ICB radius changes"
   ]
  },
  {
   "cell_type": "markdown",
   "metadata": {},
   "source": [
    "First of all, let's define a function to compute the inertia coefficient for a `SeisModel`.  (Note that in Julia, the last evaluated expression is returned, so this does indeed return $I/MR^2$.)"
   ]
  },
  {
   "cell_type": "code",
   "execution_count": 4,
   "metadata": {},
   "outputs": [
    {
     "data": {
      "text/plain": [
       "inertia_coefficient"
      ]
     },
     "execution_count": 4,
     "metadata": {},
     "output_type": "execute_result"
    }
   ],
   "source": [
    "\"Compute the inertia coefficient, I/MR², for a `SeisModel`.\"\n",
    "function inertia_coefficient(m::SeisModel)\n",
    "    R = surface_radius(m) # km\n",
    "    I = moment_of_inertia(m) # kg⋅m²\n",
    "    M = mass(m, R) # kg\n",
    "    I/(M*(1e3*R)^2) # Convert radius to m\n",
    "end"
   ]
  },
  {
   "cell_type": "markdown",
   "metadata": {},
   "source": [
    "Now, we can find out what the inertia coefficient is whilst changing the ICB radius 500 km either way from PREM's value.  This will have an effect because the density of the inner core is higher.\n",
    "\n",
    "With `SeisModels`, the easiest way is to create a copy of the `PREM` inbuilt model and perturb the radius of the ICB in the copy and record the inertia coefficient.\n",
    "\n",
    "In PREM, the inner core is the first layer of the model, so we can vary the radius of the first layer in our copy of PREM, prem$'$ by changing the value of `prem′.r[1]`. "
   ]
  },
  {
   "cell_type": "code",
   "execution_count": 5,
   "metadata": {},
   "outputs": [],
   "source": [
    "prem′ = deepcopy(PREM)\n",
    "prem_r_icb = PREM.r[1]\n",
    "r_icb = prem_r_icb .+ (-500:500)\n",
    "icoeffs = zeros(length(r_icb))\n",
    "for (i, r) in enumerate(r_icb)\n",
    "    prem′.r[1] = r\n",
    "    icoeffs[i] = inertia_coefficient(prem′)\n",
    "end"
   ]
  },
  {
   "cell_type": "markdown",
   "metadata": {},
   "source": [
    "(In Julia, you can usually type symbols in like you would in LaTeX math mode and pressing `<tab>`, so for `prem′` type `prem\\prime` and then hit `<tab>`, or for ² type `\\^2<tab>`; this works in Jupyter notebooks too.)"
   ]
  },
  {
   "cell_type": "code",
   "execution_count": 6,
   "metadata": {},
   "outputs": [
    {
     "data": {
      "image/svg+xml": [
       "<?xml version=\"1.0\" encoding=\"utf-8\"?>\n",
       "<svg xmlns=\"http://www.w3.org/2000/svg\" xmlns:xlink=\"http://www.w3.org/1999/xlink\" width=\"600\" height=\"400\" viewBox=\"0 0 2400 1600\">\n",
       "<defs>\n",
       "  <clipPath id=\"clip4700\">\n",
       "    <rect x=\"0\" y=\"0\" width=\"2400\" height=\"1600\"/>\n",
       "  </clipPath>\n",
       "</defs>\n",
       "<path clip-path=\"url(#clip4700)\" d=\"\n",
       "M0 1600 L2400 1600 L2400 0 L0 0  Z\n",
       "  \" fill=\"#ffffff\" fill-rule=\"evenodd\" fill-opacity=\"1\"/>\n",
       "<defs>\n",
       "  <clipPath id=\"clip4701\">\n",
       "    <rect x=\"480\" y=\"0\" width=\"1681\" height=\"1600\"/>\n",
       "  </clipPath>\n",
       "</defs>\n",
       "<path clip-path=\"url(#clip4700)\" d=\"\n",
       "M403.09 1425.62 L2352.76 1425.62 L2352.76 47.2441 L403.09 47.2441  Z\n",
       "  \" fill=\"#ffffff\" fill-rule=\"evenodd\" fill-opacity=\"1\"/>\n",
       "<defs>\n",
       "  <clipPath id=\"clip4702\">\n",
       "    <rect x=\"403\" y=\"47\" width=\"1951\" height=\"1379\"/>\n",
       "  </clipPath>\n",
       "</defs>\n",
       "<polyline clip-path=\"url(#clip4702)\" style=\"stroke:#000000; stroke-width:2; stroke-opacity:0.1; fill:none\" points=\"\n",
       "  602.655,1425.62 602.655,47.2441 \n",
       "  \"/>\n",
       "<polyline clip-path=\"url(#clip4702)\" style=\"stroke:#000000; stroke-width:2; stroke-opacity:0.1; fill:none\" points=\"\n",
       "  970.517,1425.62 970.517,47.2441 \n",
       "  \"/>\n",
       "<polyline clip-path=\"url(#clip4702)\" style=\"stroke:#000000; stroke-width:2; stroke-opacity:0.1; fill:none\" points=\"\n",
       "  1338.38,1425.62 1338.38,47.2441 \n",
       "  \"/>\n",
       "<polyline clip-path=\"url(#clip4702)\" style=\"stroke:#000000; stroke-width:2; stroke-opacity:0.1; fill:none\" points=\"\n",
       "  1706.24,1425.62 1706.24,47.2441 \n",
       "  \"/>\n",
       "<polyline clip-path=\"url(#clip4702)\" style=\"stroke:#000000; stroke-width:2; stroke-opacity:0.1; fill:none\" points=\"\n",
       "  2074.1,1425.62 2074.1,47.2441 \n",
       "  \"/>\n",
       "<polyline clip-path=\"url(#clip4702)\" style=\"stroke:#000000; stroke-width:2; stroke-opacity:0.1; fill:none\" points=\"\n",
       "  403.09,1386.61 2352.76,1386.61 \n",
       "  \"/>\n",
       "<polyline clip-path=\"url(#clip4702)\" style=\"stroke:#000000; stroke-width:2; stroke-opacity:0.1; fill:none\" points=\"\n",
       "  403.09,1061.52 2352.76,1061.52 \n",
       "  \"/>\n",
       "<polyline clip-path=\"url(#clip4702)\" style=\"stroke:#000000; stroke-width:2; stroke-opacity:0.1; fill:none\" points=\"\n",
       "  403.09,736.431 2352.76,736.431 \n",
       "  \"/>\n",
       "<polyline clip-path=\"url(#clip4702)\" style=\"stroke:#000000; stroke-width:2; stroke-opacity:0.1; fill:none\" points=\"\n",
       "  403.09,411.343 2352.76,411.343 \n",
       "  \"/>\n",
       "<polyline clip-path=\"url(#clip4702)\" style=\"stroke:#000000; stroke-width:2; stroke-opacity:0.1; fill:none\" points=\"\n",
       "  403.09,86.2547 2352.76,86.2547 \n",
       "  \"/>\n",
       "<polyline clip-path=\"url(#clip4700)\" style=\"stroke:#000000; stroke-width:4; stroke-opacity:1; fill:none\" points=\"\n",
       "  403.09,1425.62 2352.76,1425.62 \n",
       "  \"/>\n",
       "<polyline clip-path=\"url(#clip4700)\" style=\"stroke:#000000; stroke-width:4; stroke-opacity:1; fill:none\" points=\"\n",
       "  403.09,1425.62 403.09,47.2441 \n",
       "  \"/>\n",
       "<polyline clip-path=\"url(#clip4700)\" style=\"stroke:#000000; stroke-width:4; stroke-opacity:1; fill:none\" points=\"\n",
       "  602.655,1425.62 602.655,1409.08 \n",
       "  \"/>\n",
       "<polyline clip-path=\"url(#clip4700)\" style=\"stroke:#000000; stroke-width:4; stroke-opacity:1; fill:none\" points=\"\n",
       "  970.517,1425.62 970.517,1409.08 \n",
       "  \"/>\n",
       "<polyline clip-path=\"url(#clip4700)\" style=\"stroke:#000000; stroke-width:4; stroke-opacity:1; fill:none\" points=\"\n",
       "  1338.38,1425.62 1338.38,1409.08 \n",
       "  \"/>\n",
       "<polyline clip-path=\"url(#clip4700)\" style=\"stroke:#000000; stroke-width:4; stroke-opacity:1; fill:none\" points=\"\n",
       "  1706.24,1425.62 1706.24,1409.08 \n",
       "  \"/>\n",
       "<polyline clip-path=\"url(#clip4700)\" style=\"stroke:#000000; stroke-width:4; stroke-opacity:1; fill:none\" points=\"\n",
       "  2074.1,1425.62 2074.1,1409.08 \n",
       "  \"/>\n",
       "<polyline clip-path=\"url(#clip4700)\" style=\"stroke:#000000; stroke-width:4; stroke-opacity:1; fill:none\" points=\"\n",
       "  403.09,1386.61 426.486,1386.61 \n",
       "  \"/>\n",
       "<polyline clip-path=\"url(#clip4700)\" style=\"stroke:#000000; stroke-width:4; stroke-opacity:1; fill:none\" points=\"\n",
       "  403.09,1061.52 426.486,1061.52 \n",
       "  \"/>\n",
       "<polyline clip-path=\"url(#clip4700)\" style=\"stroke:#000000; stroke-width:4; stroke-opacity:1; fill:none\" points=\"\n",
       "  403.09,736.431 426.486,736.431 \n",
       "  \"/>\n",
       "<polyline clip-path=\"url(#clip4700)\" style=\"stroke:#000000; stroke-width:4; stroke-opacity:1; fill:none\" points=\"\n",
       "  403.09,411.343 426.486,411.343 \n",
       "  \"/>\n",
       "<polyline clip-path=\"url(#clip4700)\" style=\"stroke:#000000; stroke-width:4; stroke-opacity:1; fill:none\" points=\"\n",
       "  403.09,86.2547 426.486,86.2547 \n",
       "  \"/>\n",
       "<g clip-path=\"url(#clip4700)\">\n",
       "<text style=\"fill:#000000; fill-opacity:1; font-family:Arial,Helvetica Neue,Helvetica,sans-serif; font-size:48px; text-anchor:middle;\" transform=\"rotate(0, 602.655, 1479.62)\" x=\"602.655\" y=\"1479.62\">800</text>\n",
       "</g>\n",
       "<g clip-path=\"url(#clip4700)\">\n",
       "<text style=\"fill:#000000; fill-opacity:1; font-family:Arial,Helvetica Neue,Helvetica,sans-serif; font-size:48px; text-anchor:middle;\" transform=\"rotate(0, 970.517, 1479.62)\" x=\"970.517\" y=\"1479.62\">1000</text>\n",
       "</g>\n",
       "<g clip-path=\"url(#clip4700)\">\n",
       "<text style=\"fill:#000000; fill-opacity:1; font-family:Arial,Helvetica Neue,Helvetica,sans-serif; font-size:48px; text-anchor:middle;\" transform=\"rotate(0, 1338.38, 1479.62)\" x=\"1338.38\" y=\"1479.62\">1200</text>\n",
       "</g>\n",
       "<g clip-path=\"url(#clip4700)\">\n",
       "<text style=\"fill:#000000; fill-opacity:1; font-family:Arial,Helvetica Neue,Helvetica,sans-serif; font-size:48px; text-anchor:middle;\" transform=\"rotate(0, 1706.24, 1479.62)\" x=\"1706.24\" y=\"1479.62\">1400</text>\n",
       "</g>\n",
       "<g clip-path=\"url(#clip4700)\">\n",
       "<text style=\"fill:#000000; fill-opacity:1; font-family:Arial,Helvetica Neue,Helvetica,sans-serif; font-size:48px; text-anchor:middle;\" transform=\"rotate(0, 2074.1, 1479.62)\" x=\"2074.1\" y=\"1479.62\">1600</text>\n",
       "</g>\n",
       "<g clip-path=\"url(#clip4700)\">\n",
       "<text style=\"fill:#000000; fill-opacity:1; font-family:Arial,Helvetica Neue,Helvetica,sans-serif; font-size:48px; text-anchor:end;\" transform=\"rotate(0, 379.09, 1404.11)\" x=\"379.09\" y=\"1404.11\">0.33039490</text>\n",
       "</g>\n",
       "<g clip-path=\"url(#clip4700)\">\n",
       "<text style=\"fill:#000000; fill-opacity:1; font-family:Arial,Helvetica Neue,Helvetica,sans-serif; font-size:48px; text-anchor:end;\" transform=\"rotate(0, 379.09, 1079.02)\" x=\"379.09\" y=\"1079.02\">0.33054160</text>\n",
       "</g>\n",
       "<g clip-path=\"url(#clip4700)\">\n",
       "<text style=\"fill:#000000; fill-opacity:1; font-family:Arial,Helvetica Neue,Helvetica,sans-serif; font-size:48px; text-anchor:end;\" transform=\"rotate(0, 379.09, 753.931)\" x=\"379.09\" y=\"753.931\">0.33068829</text>\n",
       "</g>\n",
       "<g clip-path=\"url(#clip4700)\">\n",
       "<text style=\"fill:#000000; fill-opacity:1; font-family:Arial,Helvetica Neue,Helvetica,sans-serif; font-size:48px; text-anchor:end;\" transform=\"rotate(0, 379.09, 428.843)\" x=\"379.09\" y=\"428.843\">0.33083498</text>\n",
       "</g>\n",
       "<g clip-path=\"url(#clip4700)\">\n",
       "<text style=\"fill:#000000; fill-opacity:1; font-family:Arial,Helvetica Neue,Helvetica,sans-serif; font-size:48px; text-anchor:end;\" transform=\"rotate(0, 379.09, 103.755)\" x=\"379.09\" y=\"103.755\">0.33098168</text>\n",
       "</g>\n",
       "<g clip-path=\"url(#clip4700)\">\n",
       "<text style=\"fill:#000000; fill-opacity:1; font-family:Arial,Helvetica Neue,Helvetica,sans-serif; font-size:66px; text-anchor:middle;\" transform=\"rotate(0, 1377.92, 1559.48)\" x=\"1377.92\" y=\"1559.48\">ICB radius / km</text>\n",
       "</g>\n",
       "<g clip-path=\"url(#clip4700)\">\n",
       "<text style=\"fill:#000000; fill-opacity:1; font-family:Arial,Helvetica Neue,Helvetica,sans-serif; font-size:66px; text-anchor:middle;\" transform=\"rotate(-90, 89.2861, 736.431)\" x=\"89.2861\" y=\"736.431\">Inertia coefficient</text>\n",
       "</g>\n",
       "<polyline clip-path=\"url(#clip4702)\" style=\"stroke:#009af9; stroke-width:4; stroke-opacity:1; fill:none\" points=\"\n",
       "  458.27,86.2547 460.109,86.7166 461.948,87.1823 463.788,87.6471 465.627,88.1164 467.466,88.5872 469.306,89.0555 471.145,89.5266 472.984,90.0021 474.823,90.4744 \n",
       "  476.663,90.9509 478.502,91.4282 480.341,91.9054 482.181,92.3834 484.02,92.8656 485.859,93.346 487.699,93.8279 489.538,94.3158 491.377,94.8005 493.217,95.2887 \n",
       "  495.056,95.776 496.895,96.2669 498.734,96.7597 500.574,97.2501 502.413,97.745 504.252,98.2396 506.092,98.7363 507.931,99.2329 509.77,99.7324 511.61,100.232 \n",
       "  513.449,100.735 515.288,101.236 517.127,101.741 518.967,102.248 520.806,102.755 522.645,103.265 524.485,103.776 526.324,104.285 528.163,104.799 530.003,105.313 \n",
       "  531.842,105.826 533.681,106.343 535.521,106.862 537.36,107.378 539.199,107.899 541.038,108.424 542.878,108.945 544.717,109.471 546.556,109.997 548.396,110.524 \n",
       "  550.235,111.055 552.074,111.582 553.914,112.116 555.753,112.649 557.592,113.181 559.432,113.717 561.271,114.254 563.11,114.791 564.949,115.333 566.789,115.873 \n",
       "  568.628,116.415 570.467,116.96 572.307,117.504 574.146,118.051 575.985,118.602 577.825,119.148 579.664,119.7 581.503,120.254 583.343,120.806 585.182,121.359 \n",
       "  587.021,121.919 588.86,122.473 590.7,122.984 592.539,123.563 594.378,124.143 596.218,124.725 598.057,125.308 599.896,125.893 601.736,126.479 603.575,126.987 \n",
       "  605.414,127.558 607.254,128.128 609.093,128.703 610.932,129.276 612.771,129.851 614.611,130.432 616.45,131.01 618.289,131.59 620.129,132.172 621.968,132.755 \n",
       "  623.807,133.338 625.647,133.925 627.486,134.515 629.325,135.102 631.165,135.693 633.004,136.284 634.843,136.878 636.682,137.47 638.522,138.068 640.361,138.666 \n",
       "  642.2,139.263 644.04,139.862 645.879,140.468 647.718,141.068 649.558,141.672 651.397,142.28 653.236,142.89 655.076,143.496 656.915,144.107 658.754,144.719 \n",
       "  660.593,145.333 662.433,145.945 664.272,146.561 666.111,147.183 667.951,147.799 669.79,148.418 671.629,149.045 673.469,149.666 675.308,150.292 677.147,150.918 \n",
       "  678.987,151.548 680.826,152.175 682.665,152.807 684.504,153.438 686.344,154.073 688.183,154.708 690.022,155.345 691.862,155.985 693.701,156.621 695.54,157.261 \n",
       "  697.38,157.908 699.219,158.55 701.058,159.197 702.898,159.844 704.737,160.492 706.576,161.142 708.415,161.795 710.255,162.447 712.094,163.102 713.933,163.758 \n",
       "  715.773,164.415 717.612,165.077 719.451,165.733 721.291,166.394 723.13,167.062 724.969,167.724 726.808,168.393 728.648,169.06 730.487,169.732 732.326,170.401 \n",
       "  734.166,171.075 736.005,171.747 737.844,172.424 739.684,173.101 741.523,173.779 743.362,174.461 745.202,175.141 747.041,175.826 748.88,176.509 750.719,177.194 \n",
       "  752.559,177.884 754.398,178.573 756.237,179.266 758.077,179.955 759.916,180.651 761.755,181.345 763.595,182.042 765.434,182.741 767.273,183.438 769.113,184.144 \n",
       "  770.952,184.845 772.791,185.551 774.63,186.256 776.47,186.962 778.309,187.662 780.148,188.384 781.988,189.098 783.827,189.809 785.666,190.525 787.506,191.242 \n",
       "  789.345,191.961 791.184,192.68 793.024,193.4 794.863,194.127 796.702,194.848 798.541,195.577 800.381,196.304 802.22,197.032 804.059,197.764 805.899,198.498 \n",
       "  807.738,199.231 809.577,199.965 811.417,200.704 813.256,201.443 815.095,202.184 816.935,202.924 818.774,203.666 820.613,204.416 822.452,205.159 824.292,205.909 \n",
       "  826.131,206.658 827.97,207.41 829.81,208.162 831.649,208.916 833.488,209.676 835.328,210.429 837.167,211.188 839.006,211.951 840.846,212.714 842.685,213.477 \n",
       "  844.524,214.242 846.363,215.013 848.203,215.778 850.042,216.547 851.881,217.322 853.721,218.096 855.56,218.87 857.399,219.646 859.239,220.429 861.078,221.204 \n",
       "  862.917,221.985 864.757,222.769 866.596,223.556 868.435,224.341 870.274,225.125 872.114,225.921 873.953,226.708 875.792,227.501 877.632,228.298 879.471,229.094 \n",
       "  881.31,229.891 883.15,230.689 884.989,231.492 886.828,232.292 888.668,233.095 890.507,233.902 892.346,234.712 894.185,235.521 896.025,236.33 897.864,237.143 \n",
       "  899.703,237.955 901.543,238.77 903.382,239.589 905.221,240.407 907.061,241.23 908.9,242.049 910.739,242.873 912.579,243.7 914.418,244.526 916.257,245.354 \n",
       "  918.096,246.184 919.936,247.018 921.775,247.849 923.614,248.686 925.454,249.522 927.293,250.36 929.132,251.201 930.972,252.042 932.811,252.887 934.65,253.729 \n",
       "  936.489,254.578 938.329,255.426 940.168,256.275 942.007,257.125 943.847,257.979 945.686,258.837 947.525,259.69 949.365,260.55 951.204,261.41 953.043,262.271 \n",
       "  954.883,263.134 956.722,263.999 958.561,264.867 960.4,265.733 962.24,266.607 964.079,267.475 965.918,268.348 967.758,269.221 969.597,270.099 971.436,270.98 \n",
       "  973.276,271.857 975.115,272.739 976.954,273.623 978.794,274.507 980.633,275.394 982.472,276.282 984.311,277.174 986.151,278.063 987.99,278.958 989.829,279.852 \n",
       "  991.669,280.748 993.508,281.647 995.347,282.546 997.187,283.45 999.026,284.351 1000.87,285.257 1002.7,286.164 1004.54,287.072 1006.38,287.982 1008.22,288.894 \n",
       "  1010.06,289.809 1011.9,290.722 1013.74,291.641 1015.58,292.559 1017.42,293.479 1019.26,294.399 1021.1,295.324 1022.94,296.252 1024.78,297.177 1026.62,298.106 \n",
       "  1028.45,299.037 1030.29,299.969 1032.13,300.901 1033.97,301.839 1035.81,302.778 1037.65,303.714 1039.49,304.657 1041.33,305.599 1043.17,306.542 1045.01,307.487 \n",
       "  1046.85,308.437 1048.69,309.387 1050.53,310.336 1052.37,311.29 1054.21,312.244 1056.04,313.2 1057.88,314.157 1059.72,315.119 1061.56,316.081 1063.4,317.042 \n",
       "  1065.24,318.008 1067.08,318.974 1068.92,319.942 1070.76,320.911 1072.6,321.885 1074.44,322.859 1076.28,323.832 1078.12,324.81 1079.96,325.789 1081.79,326.769 \n",
       "  1083.63,327.75 1085.47,328.736 1087.31,329.723 1089.15,330.706 1090.99,331.699 1092.83,332.689 1094.67,333.681 1096.51,334.674 1098.35,335.672 1100.19,336.671 \n",
       "  1102.03,337.667 1103.87,338.671 1105.71,339.672 1107.55,340.678 1109.38,341.684 1111.22,342.693 1113.06,343.705 1114.9,344.713 1116.74,345.73 1118.58,346.743 \n",
       "  1120.42,347.761 1122.26,348.779 1124.1,349.801 1125.94,350.825 1127.78,351.846 1129.62,352.874 1131.46,353.9 1133.3,354.931 1135.13,355.961 1136.97,356.995 \n",
       "  1138.81,358.032 1140.65,359.064 1142.49,360.105 1144.33,361.144 1146.17,362.187 1148.01,363.23 1149.85,364.275 1151.69,365.325 1153.53,366.37 1155.37,367.423 \n",
       "  1157.21,368.474 1159.05,369.528 1160.88,370.585 1162.72,371.643 1164.56,372.705 1166.4,373.762 1168.24,374.832 1170.08,375.891 1171.92,376.957 1173.76,378.027 \n",
       "  1175.6,379.097 1177.44,380.172 1179.28,381.242 1181.12,382.318 1182.96,383.396 1184.8,384.474 1186.64,385.556 1188.47,386.639 1190.31,387.726 1192.15,388.809 \n",
       "  1193.99,389.898 1195.83,390.988 1197.67,392.079 1199.51,393.174 1201.35,394.269 1203.19,395.367 1205.03,396.464 1206.87,397.566 1208.71,398.668 1210.55,399.772 \n",
       "  1212.39,400.879 1214.22,401.984 1216.06,403.098 1217.9,404.207 1219.74,405.321 1221.58,406.437 1223.42,407.553 1225.26,408.673 1227.1,409.793 1228.94,410.917 \n",
       "  1230.78,412.04 1232.62,413.166 1234.46,414.294 1236.3,415.423 1238.14,416.554 1239.98,417.688 1241.81,418.825 1243.65,419.961 1245.49,421.099 1247.33,422.241 \n",
       "  1249.17,423.382 1251.01,424.525 1252.85,425.673 1254.69,426.822 1256.53,427.971 1258.37,429.122 1260.21,430.276 1262.05,431.429 1263.89,432.586 1265.73,433.746 \n",
       "  1267.56,434.908 1269.4,436.07 1271.24,437.233 1273.08,438.4 1274.92,439.567 1276.76,440.736 1278.6,441.909 1280.44,443.084 1282.28,444.26 1284.12,445.435 \n",
       "  1285.96,446.615 1287.8,447.794 1289.64,448.976 1291.48,450.162 1293.32,451.35 1295.15,452.538 1296.99,453.726 1298.83,454.919 1300.67,456.112 1302.51,457.306 \n",
       "  1304.35,458.505 1306.19,459.706 1308.03,460.907 1309.87,462.108 1311.71,463.314 1313.55,464.519 1315.39,465.726 1317.23,466.938 1319.07,468.152 1320.9,469.366 \n",
       "  1322.74,470.581 1324.58,471.799 1326.42,472.92 1328.26,474.235 1330.1,475.551 1331.94,476.689 1333.78,477.916 1335.62,479.144 1337.46,480.374 1339.3,481.606 \n",
       "  1341.14,482.839 1342.98,484.076 1344.82,485.316 1346.65,486.557 1348.49,487.798 1350.33,489.039 1352.17,490.285 1354.01,491.532 1355.85,492.782 1357.69,494.035 \n",
       "  1359.53,495.289 1361.37,496.543 1363.21,497.797 1365.05,499.056 1366.89,500.316 1368.73,501.579 1370.57,502.845 1372.41,504.112 1374.24,505.385 1376.08,506.647 \n",
       "  1377.92,507.919 1379.76,509.192 1381.6,510.468 1383.44,511.747 1385.28,513.027 1387.12,514.306 1388.96,515.588 1390.8,516.873 1392.64,518.161 1394.48,519.449 \n",
       "  1396.32,520.741 1398.16,522.032 1399.99,523.326 1401.83,524.621 1403.67,525.92 1405.51,527.22 1407.35,528.521 1409.19,529.827 1411.03,531.131 1412.87,532.438 \n",
       "  1414.71,533.746 1416.55,535.058 1418.39,536.372 1420.23,537.706 1422.07,539.005 1423.91,540.321 1425.75,541.642 1427.58,542.964 1429.42,544.289 1431.26,545.614 \n",
       "  1433.1,546.943 1434.94,548.275 1436.78,549.604 1438.62,550.94 1440.46,552.274 1442.3,553.613 1444.14,554.951 1445.98,556.294 1447.82,557.638 1449.66,558.981 \n",
       "  1451.5,560.329 1453.33,561.677 1455.17,563.029 1457.01,564.38 1458.85,565.736 1460.69,567.094 1462.53,568.45 1464.37,569.812 1466.21,571.172 1468.05,572.537 \n",
       "  1469.89,573.903 1471.73,575.273 1473.57,576.644 1475.41,578.013 1477.25,579.388 1479.09,580.761 1480.92,582.139 1482.76,583.519 1484.6,584.902 1486.44,586.286 \n",
       "  1488.28,587.669 1490.12,589.058 1491.96,590.444 1493.8,591.836 1495.64,593.229 1497.48,594.625 1499.32,596.023 1501.16,597.419 1503,598.821 1504.84,600.22 \n",
       "  1506.67,601.625 1508.51,603.032 1510.35,604.441 1512.19,605.902 1514.03,607.262 1515.87,608.677 1517.71,610.09 1519.55,611.509 1521.39,612.928 1523.23,614.351 \n",
       "  1525.07,615.776 1526.91,617.199 1528.75,618.624 1530.59,620.054 1532.42,621.486 1534.26,622.915 1536.1,624.354 1537.94,625.793 1539.78,627.23 1541.62,628.669 \n",
       "  1543.46,630.112 1545.3,631.558 1547.14,633.003 1548.98,634.452 1550.82,635.905 1552.66,637.356 1554.5,638.807 1556.34,640.265 1558.18,641.724 1560.01,643.182 \n",
       "  1561.85,644.645 1563.69,646.112 1565.53,647.576 1567.37,649.041 1569.21,650.511 1571.05,651.984 1572.89,653.456 1574.73,654.933 1576.57,656.411 1578.41,657.89 \n",
       "  1580.25,659.369 1582.09,660.853 1583.93,662.339 1585.76,663.824 1587.6,665.315 1589.44,666.806 1591.28,668.299 1593.12,669.791 1594.96,671.289 1596.8,672.789 \n",
       "  1598.64,674.288 1600.48,675.791 1602.32,677.297 1604.16,678.803 1606,680.309 1607.84,681.82 1609.68,683.33 1611.52,684.846 1613.35,686.363 1615.19,687.882 \n",
       "  1617.03,689.402 1618.87,690.921 1620.71,692.446 1622.55,693.97 1624.39,695.499 1626.23,697.03 1628.07,698.563 1629.91,700.096 1631.75,701.629 1633.59,703.168 \n",
       "  1635.43,704.705 1637.27,706.248 1639.1,707.792 1640.94,709.338 1642.78,710.884 1644.62,712.432 1646.46,713.985 1648.3,715.535 1650.14,717.091 1651.98,718.649 \n",
       "  1653.82,720.209 1655.66,721.768 1657.5,723.332 1659.34,724.897 1661.18,726.463 1663.02,728.03 1664.86,729.602 1666.69,731.175 1668.53,732.748 1670.37,734.326 \n",
       "  1672.21,735.904 1674.05,737.484 1675.89,739.065 1677.73,740.651 1679.57,742.238 1681.41,743.824 1683.25,745.415 1685.09,747.009 1686.93,748.601 1688.77,750.196 \n",
       "  1690.61,751.795 1692.44,753.392 1694.28,754.971 1696.12,756.746 1697.96,758.207 1699.8,759.813 1701.64,761.422 1703.48,763.035 1705.32,764.645 1707.16,766.263 \n",
       "  1709,767.881 1710.84,769.502 1712.68,771.122 1714.52,772.745 1716.36,774.37 1718.19,775.995 1720.03,777.626 1721.87,779.258 1723.71,780.892 1725.55,782.526 \n",
       "  1727.39,784.163 1729.23,785.802 1731.07,787.44 1732.91,789.085 1734.75,790.731 1736.59,792.379 1738.43,794.026 1740.27,795.671 1742.11,797.33 1743.95,798.985 \n",
       "  1745.78,800.64 1747.62,802.298 1749.46,803.962 1751.3,805.623 1753.14,807.287 1754.98,808.954 1756.82,810.621 1758.66,812.292 1760.5,813.964 1762.34,815.641 \n",
       "  1764.18,817.316 1766.02,818.994 1767.86,820.674 1769.7,822.355 1771.53,824.039 1773.37,825.725 1775.21,827.416 1777.05,829.105 1778.89,830.796 1780.73,832.491 \n",
       "  1782.57,834.185 1784.41,835.884 1786.25,837.599 1788.09,839.287 1789.93,840.99 1791.77,842.696 1793.61,844.402 1795.45,846.11 1797.29,847.824 1799.12,849.537 \n",
       "  1800.96,851.255 1802.8,852.97 1804.64,854.687 1806.48,856.411 1808.32,858.133 1810.16,859.861 1812,861.588 1813.84,863.32 1815.68,865.048 1817.52,866.78 \n",
       "  1819.36,868.517 1821.2,870.253 1823.04,871.995 1824.87,873.735 1826.71,875.48 1828.55,877.223 1830.39,878.972 1832.23,880.72 1834.07,882.469 1835.91,884.225 \n",
       "  1837.75,885.979 1839.59,887.738 1841.43,889.495 1843.27,891.255 1845.11,893.019 1846.95,894.782 1848.79,896.551 1850.63,898.32 1852.46,900.092 1854.3,901.863 \n",
       "  1856.14,903.637 1857.98,905.415 1859.82,907.192 1861.66,908.975 1863.5,910.757 1865.34,912.543 1867.18,914.328 1869.02,916.116 1870.86,917.907 1872.7,919.698 \n",
       "  1874.54,921.495 1876.38,923.291 1878.21,925.157 1880.05,926.889 1881.89,928.691 1883.73,930.496 1885.57,932.301 1887.41,934.112 1889.25,935.922 1891.09,937.736 \n",
       "  1892.93,939.548 1894.77,941.363 1896.61,943.182 1898.45,945.001 1900.29,946.825 1902.13,948.649 1903.96,950.477 1905.8,952.303 1907.64,954.132 1909.48,955.965 \n",
       "  1911.32,957.798 1913.16,959.634 1915,961.473 1916.84,963.312 1918.68,965.155 1920.52,966.998 1922.36,968.844 1924.2,970.691 1926.04,972.539 1927.88,974.394 \n",
       "  1929.72,976.247 1931.55,978.103 1933.39,979.961 1935.23,981.821 1937.07,983.681 1938.91,985.543 1940.75,987.41 1942.59,989.278 1944.43,991.147 1946.27,993.013 \n",
       "  1948.11,994.894 1949.95,996.768 1951.79,998.644 1953.63,1000.52 1955.47,1002.41 1957.3,1004.29 1959.14,1006.17 1960.98,1008.06 1962.82,1009.95 1964.66,1011.84 \n",
       "  1966.5,1013.74 1968.34,1015.63 1970.18,1017.53 1972.02,1019.43 1973.86,1021.33 1975.7,1023.23 1977.54,1025.14 1979.38,1027.04 1981.22,1028.95 1983.06,1030.86 \n",
       "  1984.89,1032.78 1986.73,1034.69 1988.57,1036.61 1990.41,1038.53 1992.25,1040.45 1994.09,1042.37 1995.93,1044.3 1997.77,1046.22 1999.61,1048.16 2001.45,1050.08 \n",
       "  2003.29,1052.02 2005.13,1053.95 2006.97,1055.89 2008.81,1057.82 2010.64,1059.77 2012.48,1061.71 2014.32,1063.65 2016.16,1065.6 2018,1067.55 2019.84,1069.5 \n",
       "  2021.68,1071.45 2023.52,1073.41 2025.36,1075.37 2027.2,1077.32 2029.04,1079.28 2030.88,1081.25 2032.72,1083.21 2034.56,1085.17 2036.4,1087.14 2038.23,1089.12 \n",
       "  2040.07,1091.09 2041.91,1093.06 2043.75,1095.04 2045.59,1097.02 2047.43,1098.99 2049.27,1099.19 2051.11,1101.46 2052.95,1103.73 2054.79,1106.01 2056.63,1108.28 \n",
       "  2058.47,1110.56 2060.31,1112.84 2062.15,1115.13 2063.98,1117.41 2065.82,1119.7 2067.66,1121.99 2069.5,1124.29 2071.34,1126.59 2073.18,1128.89 2075.02,1128.93 \n",
       "  2076.86,1130.95 2078.7,1132.96 2080.54,1134.98 2082.38,1137 2084.22,1139.01 2086.06,1141.03 2087.9,1143.06 2089.74,1145.08 2091.57,1147.11 2093.41,1149.14 \n",
       "  2095.25,1151.17 2097.09,1153.21 2098.93,1155.24 2100.77,1157.28 2102.61,1159.32 2104.45,1161.36 2106.29,1163.4 2108.13,1165.45 2109.97,1167.5 2111.81,1169.54 \n",
       "  2113.65,1171.59 2115.49,1173.65 2117.32,1175.7 2119.16,1177.76 2121,1179.82 2122.84,1181.88 2124.68,1183.94 2126.52,1186.01 2128.36,1188.08 2130.2,1190.14 \n",
       "  2132.04,1192.21 2133.88,1194.29 2135.72,1196.36 2137.56,1198.44 2139.4,1200.52 2141.24,1202.6 2143.07,1204.68 2144.91,1206.76 2146.75,1208.85 2148.59,1210.94 \n",
       "  2150.43,1213.03 2152.27,1215.12 2154.11,1217.22 2155.95,1219.31 2157.79,1221.41 2159.63,1223.51 2161.47,1225.61 2163.31,1227.72 2165.15,1229.82 2166.99,1231.93 \n",
       "  2168.83,1234.04 2170.66,1236.16 2172.5,1238.27 2174.34,1240.38 2176.18,1242.5 2178.02,1244.62 2179.86,1246.74 2181.7,1248.87 2183.54,1250.99 2185.38,1253.12 \n",
       "  2187.22,1255.25 2189.06,1257.39 2190.9,1259.52 2192.74,1261.65 2194.58,1263.79 2196.41,1265.93 2198.25,1268.1 2200.09,1270.21 2201.93,1272.36 2203.77,1274.51 \n",
       "  2205.61,1276.65 2207.45,1278.81 2209.29,1280.96 2211.13,1283.12 2212.97,1285.27 2214.81,1287.43 2216.65,1289.59 2218.49,1291.75 2220.33,1293.92 2222.17,1296.09 \n",
       "  2224,1298.26 2225.84,1300.43 2227.68,1302.6 2229.52,1304.77 2231.36,1306.95 2233.2,1309.13 2235.04,1311.31 2236.88,1313.49 2238.72,1315.68 2240.56,1317.87 \n",
       "  2242.4,1320.05 2244.24,1322.32 2246.08,1324.43 2247.92,1326.63 2249.75,1328.83 2251.59,1331.02 2253.43,1333.23 2255.27,1335.42 2257.11,1337.63 2258.95,1339.84 \n",
       "  2260.79,1342.04 2262.63,1344.25 2264.47,1346.47 2266.31,1348.68 2268.15,1350.89 2269.99,1353.11 2271.83,1355.33 2273.67,1357.55 2275.51,1359.78 2277.34,1362 \n",
       "  2279.18,1364.23 2281.02,1366.46 2282.86,1368.69 2284.7,1370.92 2286.54,1373.16 2288.38,1375.39 2290.22,1377.63 2292.06,1379.88 2293.9,1382.12 2295.74,1384.36 \n",
       "  2297.58,1386.61 \n",
       "  \"/>\n",
       "<polyline clip-path=\"url(#clip4702)\" style=\"stroke:#e26f46; stroke-width:4; stroke-opacity:1; fill:none\" points=\"\n",
       "  -1546.57,697.183 4302.42,697.183 \n",
       "  \"/>\n",
       "<polyline clip-path=\"url(#clip4702)\" style=\"stroke:#e26f46; stroke-width:4; stroke-opacity:1; fill:none\" points=\"\n",
       "  -1546.57,661.725 4302.42,661.725 \n",
       "  \"/>\n",
       "<polyline clip-path=\"url(#clip4702)\" style=\"stroke:#3da44d; stroke-width:4; stroke-opacity:1; fill:none\" points=\"\n",
       "  -1546.57,488.868 4302.42,488.868 \n",
       "  \"/>\n",
       "<polyline clip-path=\"url(#clip4702)\" style=\"stroke:#c271d2; stroke-width:4; stroke-opacity:1; fill:none\" points=\"\n",
       "  1377.92,2803.99 1377.92,-1331.13 \n",
       "  \"/>\n",
       "<path clip-path=\"url(#clip4700)\" d=\"\n",
       "M475.09 1281.62 L1691.63 1281.62 L1691.63 979.219 L475.09 979.219  Z\n",
       "  \" fill=\"#ffffff\" fill-rule=\"evenodd\" fill-opacity=\"1\"/>\n",
       "<polyline clip-path=\"url(#clip4700)\" style=\"stroke:#000000; stroke-width:4; stroke-opacity:1; fill:none\" points=\"\n",
       "  475.09,1281.62 1691.63,1281.62 1691.63,979.219 475.09,979.219 475.09,1281.62 \n",
       "  \"/>\n",
       "<polyline clip-path=\"url(#clip4700)\" style=\"stroke:#009af9; stroke-width:4; stroke-opacity:1; fill:none\" points=\"\n",
       "  499.09,1039.7 643.09,1039.7 \n",
       "  \"/>\n",
       "<g clip-path=\"url(#clip4700)\">\n",
       "<text style=\"fill:#000000; fill-opacity:1; font-family:Arial,Helvetica Neue,Helvetica,sans-serif; font-size:48px; text-anchor:start;\" transform=\"rotate(0, 667.09, 1057.2)\" x=\"667.09\" y=\"1057.2\">Modified PREM</text>\n",
       "</g>\n",
       "<polyline clip-path=\"url(#clip4700)\" style=\"stroke:#e26f46; stroke-width:4; stroke-opacity:1; fill:none\" points=\"\n",
       "  499.09,1100.18 643.09,1100.18 \n",
       "  \"/>\n",
       "<g clip-path=\"url(#clip4700)\">\n",
       "<text style=\"fill:#000000; fill-opacity:1; font-family:Arial,Helvetica Neue,Helvetica,sans-serif; font-size:48px; text-anchor:start;\" transform=\"rotate(0, 667.09, 1117.68)\" x=\"667.09\" y=\"1117.68\">Reference bounds (Chambat &amp; Valette, 2001)</text>\n",
       "</g>\n",
       "<polyline clip-path=\"url(#clip4700)\" style=\"stroke:#3da44d; stroke-width:4; stroke-opacity:1; fill:none\" points=\"\n",
       "  499.09,1160.66 643.09,1160.66 \n",
       "  \"/>\n",
       "<g clip-path=\"url(#clip4700)\">\n",
       "<text style=\"fill:#000000; fill-opacity:1; font-family:Arial,Helvetica Neue,Helvetica,sans-serif; font-size:48px; text-anchor:start;\" transform=\"rotate(0, 667.09, 1178.16)\" x=\"667.09\" y=\"1178.16\">PREM value</text>\n",
       "</g>\n",
       "<polyline clip-path=\"url(#clip4700)\" style=\"stroke:#c271d2; stroke-width:4; stroke-opacity:1; fill:none\" points=\"\n",
       "  499.09,1221.14 643.09,1221.14 \n",
       "  \"/>\n",
       "<g clip-path=\"url(#clip4700)\">\n",
       "<text style=\"fill:#000000; fill-opacity:1; font-family:Arial,Helvetica Neue,Helvetica,sans-serif; font-size:48px; text-anchor:start;\" transform=\"rotate(0, 667.09, 1238.64)\" x=\"667.09\" y=\"1238.64\">PREM ICB radius</text>\n",
       "</g>\n",
       "</svg>\n"
      ]
     },
     "execution_count": 6,
     "metadata": {},
     "output_type": "execute_result"
    }
   ],
   "source": [
    "# Help GR with y-axis ticks\n",
    "ticks = range(minimum(icoeffs), stop=maximum(icoeffs), length=5)\n",
    "plot(r_icb, icoeffs, xlabel=\"ICB radius / km\", ylabel=\"Inertia coefficient\",\n",
    "    legend=:bottomleft, yticks=ticks, label=\"Modified PREM\")\n",
    "hline!([value(I_MR²) - uncertainty(I_MR²), value(I_MR²) + uncertainty(I_MR²)],\n",
    "    label=\"Reference bounds (Chambat & Valette, 2001)\")\n",
    "hline!([0.3308], label=\"PREM value\")\n",
    "vline!([prem_r_icb], label=\"PREM ICB radius\")"
   ]
  },
  {
   "cell_type": "markdown",
   "metadata": {},
   "source": [
    "What is the best fitting ICB radius to satisfy the modern $I/MR^2$ constraint?"
   ]
  },
  {
   "cell_type": "code",
   "execution_count": 7,
   "metadata": {},
   "outputs": [
    {
     "data": {
      "text/plain": [
       "1344.5"
      ]
     },
     "execution_count": 7,
     "metadata": {},
     "output_type": "execute_result"
    }
   ],
   "source": [
    "icb_r_best = r_icb[argmin(abs.(value(I_MR²) .- icoeffs))]"
   ]
  },
  {
   "cell_type": "markdown",
   "metadata": {},
   "source": [
    "What does this model look like?  We haven't changed the polynomial coefficients representing the inner and outer core at all, only the radius over which they are evaluated."
   ]
  },
  {
   "cell_type": "code",
   "execution_count": 8,
   "metadata": {},
   "outputs": [
    {
     "data": {
      "image/svg+xml": [
       "<?xml version=\"1.0\" encoding=\"utf-8\"?>\n",
       "<svg xmlns=\"http://www.w3.org/2000/svg\" xmlns:xlink=\"http://www.w3.org/1999/xlink\" width=\"600\" height=\"400\" viewBox=\"0 0 2400 1600\">\n",
       "<defs>\n",
       "  <clipPath id=\"clip5100\">\n",
       "    <rect x=\"0\" y=\"0\" width=\"2400\" height=\"1600\"/>\n",
       "  </clipPath>\n",
       "</defs>\n",
       "<path clip-path=\"url(#clip5100)\" d=\"\n",
       "M0 1600 L2400 1600 L2400 0 L0 0  Z\n",
       "  \" fill=\"#ffffff\" fill-rule=\"evenodd\" fill-opacity=\"1\"/>\n",
       "<defs>\n",
       "  <clipPath id=\"clip5101\">\n",
       "    <rect x=\"480\" y=\"0\" width=\"1681\" height=\"1600\"/>\n",
       "  </clipPath>\n",
       "</defs>\n",
       "<path clip-path=\"url(#clip5100)\" d=\"\n",
       "M242.516 1425.62 L2352.76 1425.62 L2352.76 47.2441 L242.516 47.2441  Z\n",
       "  \" fill=\"#ffffff\" fill-rule=\"evenodd\" fill-opacity=\"1\"/>\n",
       "<defs>\n",
       "  <clipPath id=\"clip5102\">\n",
       "    <rect x=\"242\" y=\"47\" width=\"2111\" height=\"1379\"/>\n",
       "  </clipPath>\n",
       "</defs>\n",
       "<polyline clip-path=\"url(#clip5102)\" style=\"stroke:#000000; stroke-width:2; stroke-opacity:0.1; fill:none\" points=\"\n",
       "  302.24,1425.62 302.24,47.2441 \n",
       "  \"/>\n",
       "<polyline clip-path=\"url(#clip5102)\" style=\"stroke:#000000; stroke-width:2; stroke-opacity:0.1; fill:none\" points=\"\n",
       "  965.838,1425.62 965.838,47.2441 \n",
       "  \"/>\n",
       "<polyline clip-path=\"url(#clip5102)\" style=\"stroke:#000000; stroke-width:2; stroke-opacity:0.1; fill:none\" points=\"\n",
       "  1629.43,1425.62 1629.43,47.2441 \n",
       "  \"/>\n",
       "<polyline clip-path=\"url(#clip5102)\" style=\"stroke:#000000; stroke-width:2; stroke-opacity:0.1; fill:none\" points=\"\n",
       "  2293.03,1425.62 2293.03,47.2441 \n",
       "  \"/>\n",
       "<polyline clip-path=\"url(#clip5102)\" style=\"stroke:#000000; stroke-width:2; stroke-opacity:0.1; fill:none\" points=\"\n",
       "  242.516,1178.26 2352.76,1178.26 \n",
       "  \"/>\n",
       "<polyline clip-path=\"url(#clip5102)\" style=\"stroke:#000000; stroke-width:2; stroke-opacity:0.1; fill:none\" points=\"\n",
       "  242.516,916.828 2352.76,916.828 \n",
       "  \"/>\n",
       "<polyline clip-path=\"url(#clip5102)\" style=\"stroke:#000000; stroke-width:2; stroke-opacity:0.1; fill:none\" points=\"\n",
       "  242.516,655.395 2352.76,655.395 \n",
       "  \"/>\n",
       "<polyline clip-path=\"url(#clip5102)\" style=\"stroke:#000000; stroke-width:2; stroke-opacity:0.1; fill:none\" points=\"\n",
       "  242.516,393.962 2352.76,393.962 \n",
       "  \"/>\n",
       "<polyline clip-path=\"url(#clip5102)\" style=\"stroke:#000000; stroke-width:2; stroke-opacity:0.1; fill:none\" points=\"\n",
       "  242.516,132.528 2352.76,132.528 \n",
       "  \"/>\n",
       "<polyline clip-path=\"url(#clip5100)\" style=\"stroke:#000000; stroke-width:4; stroke-opacity:1; fill:none\" points=\"\n",
       "  242.516,1425.62 2352.76,1425.62 \n",
       "  \"/>\n",
       "<polyline clip-path=\"url(#clip5100)\" style=\"stroke:#000000; stroke-width:4; stroke-opacity:1; fill:none\" points=\"\n",
       "  242.516,1425.62 242.516,47.2441 \n",
       "  \"/>\n",
       "<polyline clip-path=\"url(#clip5100)\" style=\"stroke:#000000; stroke-width:4; stroke-opacity:1; fill:none\" points=\"\n",
       "  302.24,1425.62 302.24,1409.08 \n",
       "  \"/>\n",
       "<polyline clip-path=\"url(#clip5100)\" style=\"stroke:#000000; stroke-width:4; stroke-opacity:1; fill:none\" points=\"\n",
       "  965.838,1425.62 965.838,1409.08 \n",
       "  \"/>\n",
       "<polyline clip-path=\"url(#clip5100)\" style=\"stroke:#000000; stroke-width:4; stroke-opacity:1; fill:none\" points=\"\n",
       "  1629.43,1425.62 1629.43,1409.08 \n",
       "  \"/>\n",
       "<polyline clip-path=\"url(#clip5100)\" style=\"stroke:#000000; stroke-width:4; stroke-opacity:1; fill:none\" points=\"\n",
       "  2293.03,1425.62 2293.03,1409.08 \n",
       "  \"/>\n",
       "<polyline clip-path=\"url(#clip5100)\" style=\"stroke:#000000; stroke-width:4; stroke-opacity:1; fill:none\" points=\"\n",
       "  242.516,1178.26 267.839,1178.26 \n",
       "  \"/>\n",
       "<polyline clip-path=\"url(#clip5100)\" style=\"stroke:#000000; stroke-width:4; stroke-opacity:1; fill:none\" points=\"\n",
       "  242.516,916.828 267.839,916.828 \n",
       "  \"/>\n",
       "<polyline clip-path=\"url(#clip5100)\" style=\"stroke:#000000; stroke-width:4; stroke-opacity:1; fill:none\" points=\"\n",
       "  242.516,655.395 267.839,655.395 \n",
       "  \"/>\n",
       "<polyline clip-path=\"url(#clip5100)\" style=\"stroke:#000000; stroke-width:4; stroke-opacity:1; fill:none\" points=\"\n",
       "  242.516,393.962 267.839,393.962 \n",
       "  \"/>\n",
       "<polyline clip-path=\"url(#clip5100)\" style=\"stroke:#000000; stroke-width:4; stroke-opacity:1; fill:none\" points=\"\n",
       "  242.516,132.528 267.839,132.528 \n",
       "  \"/>\n",
       "<g clip-path=\"url(#clip5100)\">\n",
       "<text style=\"fill:#000000; fill-opacity:1; font-family:Arial,Helvetica Neue,Helvetica,sans-serif; font-size:48px; text-anchor:middle;\" transform=\"rotate(0, 302.24, 1479.62)\" x=\"302.24\" y=\"1479.62\">0</text>\n",
       "</g>\n",
       "<g clip-path=\"url(#clip5100)\">\n",
       "<text style=\"fill:#000000; fill-opacity:1; font-family:Arial,Helvetica Neue,Helvetica,sans-serif; font-size:48px; text-anchor:middle;\" transform=\"rotate(0, 965.838, 1479.62)\" x=\"965.838\" y=\"1479.62\">1000</text>\n",
       "</g>\n",
       "<g clip-path=\"url(#clip5100)\">\n",
       "<text style=\"fill:#000000; fill-opacity:1; font-family:Arial,Helvetica Neue,Helvetica,sans-serif; font-size:48px; text-anchor:middle;\" transform=\"rotate(0, 1629.43, 1479.62)\" x=\"1629.43\" y=\"1479.62\">2000</text>\n",
       "</g>\n",
       "<g clip-path=\"url(#clip5100)\">\n",
       "<text style=\"fill:#000000; fill-opacity:1; font-family:Arial,Helvetica Neue,Helvetica,sans-serif; font-size:48px; text-anchor:middle;\" transform=\"rotate(0, 2293.03, 1479.62)\" x=\"2293.03\" y=\"1479.62\">3000</text>\n",
       "</g>\n",
       "<g clip-path=\"url(#clip5100)\">\n",
       "<text style=\"fill:#000000; fill-opacity:1; font-family:Arial,Helvetica Neue,Helvetica,sans-serif; font-size:48px; text-anchor:end;\" transform=\"rotate(0, 218.516, 1195.76)\" x=\"218.516\" y=\"1195.76\">11.0</text>\n",
       "</g>\n",
       "<g clip-path=\"url(#clip5100)\">\n",
       "<text style=\"fill:#000000; fill-opacity:1; font-family:Arial,Helvetica Neue,Helvetica,sans-serif; font-size:48px; text-anchor:end;\" transform=\"rotate(0, 218.516, 934.328)\" x=\"218.516\" y=\"934.328\">11.5</text>\n",
       "</g>\n",
       "<g clip-path=\"url(#clip5100)\">\n",
       "<text style=\"fill:#000000; fill-opacity:1; font-family:Arial,Helvetica Neue,Helvetica,sans-serif; font-size:48px; text-anchor:end;\" transform=\"rotate(0, 218.516, 672.895)\" x=\"218.516\" y=\"672.895\">12.0</text>\n",
       "</g>\n",
       "<g clip-path=\"url(#clip5100)\">\n",
       "<text style=\"fill:#000000; fill-opacity:1; font-family:Arial,Helvetica Neue,Helvetica,sans-serif; font-size:48px; text-anchor:end;\" transform=\"rotate(0, 218.516, 411.462)\" x=\"218.516\" y=\"411.462\">12.5</text>\n",
       "</g>\n",
       "<g clip-path=\"url(#clip5100)\">\n",
       "<text style=\"fill:#000000; fill-opacity:1; font-family:Arial,Helvetica Neue,Helvetica,sans-serif; font-size:48px; text-anchor:end;\" transform=\"rotate(0, 218.516, 150.028)\" x=\"218.516\" y=\"150.028\">13.0</text>\n",
       "</g>\n",
       "<g clip-path=\"url(#clip5100)\">\n",
       "<text style=\"fill:#000000; fill-opacity:1; font-family:Arial,Helvetica Neue,Helvetica,sans-serif; font-size:66px; text-anchor:middle;\" transform=\"rotate(0, 1297.64, 1559.48)\" x=\"1297.64\" y=\"1559.48\">Radius / km</text>\n",
       "</g>\n",
       "<g clip-path=\"url(#clip5100)\">\n",
       "<text style=\"fill:#000000; fill-opacity:1; font-family:Arial,Helvetica Neue,Helvetica,sans-serif; font-size:66px; text-anchor:middle;\" transform=\"rotate(-90, 89.2861, 736.431)\" x=\"89.2861\" y=\"736.431\">Density / g/cm^3</text>\n",
       "</g>\n",
       "<polyline clip-path=\"url(#clip5102)\" style=\"stroke:#009af9; stroke-width:4; stroke-opacity:1; fill:none\" points=\"\n",
       "  302.24,86.2547 321.682,86.3524 501.449,96.5145 609.481,110.66 700.821,127.328 800.042,150.322 891.514,176.031 940.549,191.593 989.583,208.399 1017.99,218.703 \n",
       "  1046.39,229.424 1060.6,234.941 1074.8,240.563 1081.9,243.413 1089,246.289 1096.1,249.191 1103.2,252.119 1106.36,253.428 1109.52,254.743 1110.3,255.072 \n",
       "  1111.09,255.402 1111.88,255.732 1112.67,256.062 1113.46,568.683 1114.25,569.002 1115.04,569.322 1115.83,569.642 1117.4,570.282 1118.98,570.924 1120.56,571.566 \n",
       "  1122.14,572.21 1125.29,573.5 1128.45,574.794 1141.07,580.009 1153.69,585.29 1178.94,596.047 1204.18,607.068 1248.45,627.045 1292.72,647.866 1389.26,696.287 \n",
       "  1486.37,749.345 1593.74,813.34 1695.9,879.677 1802.12,954.555 1891.54,1022.45 2000.71,1111.62 2103.33,1201.99 2267.73,1360.63 2293.03,1386.61 \n",
       "  \"/>\n",
       "<polyline clip-path=\"url(#clip5102)\" style=\"stroke:#e26f46; stroke-width:4; stroke-opacity:1; fill:none\" points=\"\n",
       "  302.24,86.2547 321.682,86.3524 501.449,96.5145 609.481,110.66 700.821,127.328 800.042,150.322 891.514,176.031 940.549,191.593 989.583,208.399 1046.39,229.424 \n",
       "  1103.2,252.119 1128.45,262.738 1153.69,273.687 1166.31,279.285 1178.94,284.966 1182.09,286.399 1185.25,287.837 1186.82,288.558 1188.4,289.28 1189.98,290.004 \n",
       "  1191.56,290.729 1192.35,291.092 1193.13,291.455 1193.92,291.819 1194.71,602.904 1195.5,603.249 1196.29,603.595 1197.08,603.941 1197.87,604.288 1201.02,605.676 \n",
       "  1204.18,607.068 1209.71,609.52 1215.25,611.984 1220.78,614.462 1226.31,616.952 1237.38,621.972 1248.45,627.045 1270.59,637.349 1292.72,647.866 1389.26,696.287 \n",
       "  1486.37,749.345 1593.74,813.34 1695.9,879.677 1802.12,954.555 1891.54,1022.45 2000.71,1111.62 2103.33,1201.99 2267.73,1360.63 2293.03,1386.61 \n",
       "  \"/>\n",
       "<path clip-path=\"url(#clip5100)\" d=\"\n",
       "M1472.39 312.204 L2280.76 312.204 L2280.76 130.764 L1472.39 130.764  Z\n",
       "  \" fill=\"#ffffff\" fill-rule=\"evenodd\" fill-opacity=\"1\"/>\n",
       "<polyline clip-path=\"url(#clip5100)\" style=\"stroke:#000000; stroke-width:4; stroke-opacity:1; fill:none\" points=\"\n",
       "  1472.39,312.204 2280.76,312.204 2280.76,130.764 1472.39,130.764 1472.39,312.204 \n",
       "  \"/>\n",
       "<polyline clip-path=\"url(#clip5100)\" style=\"stroke:#009af9; stroke-width:4; stroke-opacity:1; fill:none\" points=\"\n",
       "  1496.39,191.244 1640.39,191.244 \n",
       "  \"/>\n",
       "<g clip-path=\"url(#clip5100)\">\n",
       "<text style=\"fill:#000000; fill-opacity:1; font-family:Arial,Helvetica Neue,Helvetica,sans-serif; font-size:48px; text-anchor:start;\" transform=\"rotate(0, 1664.39, 208.744)\" x=\"1664.39\" y=\"208.744\">PREM</text>\n",
       "</g>\n",
       "<polyline clip-path=\"url(#clip5100)\" style=\"stroke:#e26f46; stroke-width:4; stroke-opacity:1; fill:none\" points=\"\n",
       "  1496.39,251.724 1640.39,251.724 \n",
       "  \"/>\n",
       "<g clip-path=\"url(#clip5100)\">\n",
       "<text style=\"fill:#000000; fill-opacity:1; font-family:Arial,Helvetica Neue,Helvetica,sans-serif; font-size:48px; text-anchor:start;\" transform=\"rotate(0, 1664.39, 269.224)\" x=\"1664.39\" y=\"269.224\">&apos;PREM&apos; (r_ICB = 1344 km)</text>\n",
       "</g>\n",
       "</svg>\n"
      ]
     },
     "execution_count": 8,
     "metadata": {},
     "output_type": "execute_result"
    }
   ],
   "source": [
    "prem′.r[1] = icb_r_best # Model with 'best' ICB radius\n",
    "plot(r -> density(PREM, r), 0, 3000, label=\"PREM\",\n",
    "    xlabel=\"Radius / km\", ylabel=\"Density / g/cm^3\")\n",
    "plot!(r -> density(prem′, r), 0, 3000,\n",
    "    label=\"'PREM' (r_ICB = $(round(Int, icb_r_best)) km)\")"
   ]
  },
  {
   "cell_type": "markdown",
   "metadata": {},
   "source": [
    "So, PREM satisfies its own constraints on the inertia coefficient, but more modern constraints on $I/MR^2$ would be a bit different.  If all you did was make PREM's inner core bigger by about 130 km, this would be fine... but then other things might start to go wrong...  For instance, the density and velocity jumps at the ICB would be different, and perhaps the total mass might go off too."
   ]
  },
  {
   "cell_type": "markdown",
   "metadata": {},
   "source": [
    "Let's check what happens to the total mass with our new ideal ICB radius:"
   ]
  },
  {
   "cell_type": "code",
   "execution_count": 9,
   "metadata": {},
   "outputs": [
    {
     "data": {
      "text/plain": [
       "5.974548143153812e24 kg"
      ]
     },
     "execution_count": 9,
     "metadata": {},
     "output_type": "execute_result"
    }
   ],
   "source": [
    "mass_icb_best = mass(prem′, 0, depth=true)*kg"
   ]
  },
  {
   "cell_type": "code",
   "execution_count": 10,
   "metadata": {},
   "outputs": [
    {
     "data": {
      "text/plain": [
       "true"
      ]
     },
     "execution_count": 10,
     "metadata": {},
     "output_type": "execute_result"
    }
   ],
   "source": [
    "value(M) - uncertainty(M) <= mass_icb_best <= value(M) + uncertainty(M)"
   ]
  },
  {
   "cell_type": "markdown",
   "metadata": {},
   "source": [
    "So we can still satisfy the total mass.  But as for seismic travel times and normal mode frequencies?  That's another story..."
   ]
  }
 ],
 "metadata": {
  "@webio": {
   "lastCommId": null,
   "lastKernelId": null
  },
  "kernelspec": {
   "display_name": "Julia 1.3.0",
   "language": "julia",
   "name": "julia-1.3"
  },
  "language_info": {
   "file_extension": ".jl",
   "mimetype": "application/julia",
   "name": "julia",
   "version": "1.3.1"
  }
 },
 "nbformat": 4,
 "nbformat_minor": 2
}
